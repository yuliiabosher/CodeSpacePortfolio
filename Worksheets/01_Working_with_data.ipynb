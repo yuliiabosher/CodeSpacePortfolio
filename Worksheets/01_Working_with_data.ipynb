{
  "nbformat": 4,
  "nbformat_minor": 0,
  "metadata": {
    "colab": {
      "provenance": [],
      "include_colab_link": true
    },
    "kernelspec": {
      "name": "python3",
      "display_name": "Python 3"
    }
  },
  "cells": [
    {
      "cell_type": "markdown",
      "metadata": {
        "id": "view-in-github",
        "colab_type": "text"
      },
      "source": [
        "<a href=\"https://colab.research.google.com/github/yuliiabosher/CodeSpacePortfolio/blob/main/Worksheets/01_Working_with_data.ipynb\" target=\"_parent\"><img src=\"https://colab.research.google.com/assets/colab-badge.svg\" alt=\"Open In Colab\"/></a>"
      ]
    },
    {
      "cell_type": "markdown",
      "metadata": {
        "id": "hfYzBHsYgy0C"
      },
      "source": [
        "# Working with data\n",
        "---\n",
        "\n",
        "Data is at the heart of much of what we do, whether in business or other parts of our lives.\n",
        "\n",
        "The weather forecast is based on data collected, process and analysed to predict trends and therefore what might happen next.\n",
        "\n",
        "We measure how our children are doing at school using data collected about performance of students in their classes, or against students across the country.\n",
        "\n",
        "There is a common process for managing data, a **life cycle**, which is common across most uses.\n",
        "\n",
        "![Data life cycle](https://53.fs1.hubspotusercontent-na1.net/hub/53/hubfs/Google%20Drive%20Integration/Data%20Lifecycle%20Management.gif?width=1500&name=Data%20Lifecycle%20Management.gif)\n",
        "\n",
        "## Why code?\n",
        "\n",
        "Read through this presentation to help you to start thinking about why learning to use code to work with data is a valuable skill.\n",
        "\n",
        "[Working with data](https://docs.google.com/presentation/d/e/2PACX-1vR6UxxSQE1toWFWudGgEeq6Mc-qwbcYVRHHcR_3PjifhoGOcmtuJjTWgtXM_m6N-iih8yGeezZI29aN/pub?start=false&loop=false&delayms=3000)\n",
        "\n",
        "Listen to some reasons why knowing how to code is useful, then come back to this worksheet to start learning how to use Python code to collect data.\n",
        "\n",
        "[Why code?](https://drive.google.com/file/d/1hj0oFUNDLpRt9ltg35W1Vj12pnUWaIfO/view?usp=drive_link)"
      ]
    },
    {
      "cell_type": "markdown",
      "source": [
        "# Coding with data\n",
        "\n",
        "![programming process](https://drive.google.com/uc?id=1kiIsd2v0EU7PgT4avV02g7IBp_A4G8Kd)\n",
        "\n",
        "Data is read in from a source, it is processed in some way and some new data is produced.\n",
        "\n",
        "# Types of data\n",
        "\n",
        "Data generally falls into two categories:\n",
        "\n",
        "* Numeric\n",
        "* Categorical\n",
        "\n",
        "### Numeric data\n",
        "\n",
        "* whole numbers\n",
        "* decimal numbers\n",
        "* decimal numbers with a high level of precision\n",
        "\n",
        "### Categorical data\n",
        "\n",
        "* text\n",
        "* boolean (True or False)\n",
        "\n",
        "### How Python stores data while it is using it\n",
        "\n",
        "Data is stored in **variables**\n",
        "\n",
        "* a variable is a holder for storing one piece of data in the computer's memory\n",
        "* a variable is temporary and only exists while the code that needs it is running\n",
        "\n",
        "Some examples of the types of data that might be stored in a variable during processing.\n",
        "\n",
        "**Integer** (_int_)  e.g. 1, 32, 32687, -16, whole numbers from  -2147483648 through 2147483647\n",
        "\n",
        "**Decimal** (_float_) e.g. 1.5, 31,8, -3267.9999999, -16.00\n",
        "\n",
        "**Complex** (_complex_) these are used in option pricing models in economics and finance but are not covered in this course.\n",
        "\n",
        "\n",
        "\n",
        "\n"
      ],
      "metadata": {
        "id": "f7XTgdodRcPT"
      }
    },
    {
      "cell_type": "markdown",
      "metadata": {
        "id": "bUfEgyAJBgxX"
      },
      "source": [
        "## Let's get writing python functions to collect data\n",
        "----\n",
        "\n",
        "Before we start, please watch this video that explains what a python function looks like, how to run it, add comments and deal with errors.\n",
        "\n",
        "# [Video](https://vimeo.com/988038241/d9fb1a3596?share=copy)\n",
        "\n",
        "---\n",
        "\n",
        "You are going to run and change 3 **functions** to collect some whole number data, then modify the function to collect the data they use from 3 different sources.\n",
        "\n",
        "Functions are named sets of instructions that do one particular thing, often creating a new set of data but sometimes just collecting it.  The name of a function should describe what it does, with a verb and a noun (e.g. add_one is a function that adds 1 to a number)\n",
        "\n",
        "A *function* starts with the keyword **def** (short for define or definition). All instructions below the definition are indented and this indicates that they are part of that function. A function runs when its name is used outside the function (here it is not indented). The indentation is important, in the examples note where the code is and isn't indented.\n",
        "\n",
        "1. Functions 1 to 3 will generate their own data\n",
        "2. Functions 4 to 6 will collect data from the user\n",
        "3. Functions 7 to 9 will get the data from a file"
      ]
    },
    {
      "cell_type": "markdown",
      "source": [
        "---\n",
        "# Generating data within the code\n",
        "\n",
        "To store data in a variable, you will use the **assignment operator =**\n",
        "\n",
        "e.g.  \n",
        "\n",
        "\n",
        "```\n",
        "num = int(3)\n",
        "num = float(5.6)\n",
        "name = \"Billy\"\n",
        "```\n",
        "\n",
        "It is good practice to state what type of data each should be.  For numeric data you can use `int()` or `float()`\n",
        "\n",
        "For text data  `\"\"` will identify it."
      ],
      "metadata": {
        "id": "h4JVvjj7sh1F"
      }
    },
    {
      "cell_type": "markdown",
      "source": [
        "### Exercise 1 - numerical data - whole numbers (_int_)\n",
        "The cell below contains a **function** that:\n",
        "\n",
        "*  creates a variable called **num** to store a whole number with value 3  \n",
        " `num = int(3)`\n",
        "*  creates a new, second variable called **num_plus_one** to hold the result of adding 1 to `num`  \n",
        "`num_plus_one = num + 1`\n",
        "*  prints the new data  \n",
        "`print(num_plus_one)`\n",
        "\n",
        "If the function has been written properly, it will print 4 (this is the test).  \n",
        "\n",
        "Run the function (click on the play button in the top left corner of the code box)."
      ],
      "metadata": {
        "id": "v01oO9HGbHAQ"
      }
    },
    {
      "cell_type": "code",
      "metadata": {
        "id": "4oPwx_yTf-yt",
        "collapsed": true
      },
      "source": [],
      "execution_count": null,
      "outputs": []
    },
    {
      "cell_type": "markdown",
      "source": [
        "### Have a play with this function\n",
        "\n",
        "1. Change the number called num to the number 345, run the code and it should print 346.\n",
        "2. Change num to another number, run the code and check that it prints the correct answer\n",
        "3.  Change num to \"two\" (written exactly as it is).  Run the code - it will crash and show the error message \"ValueError: invalid literal for int() with base 10: 'two'\" at the bottom of the error text.  This means that it couldn't process the data as it was a word rather than a number.  Change it to the number 2 and the code should run and give the answer 3"
      ],
      "metadata": {
        "id": "iWrE70yKdnFe"
      }
    },
    {
      "cell_type": "markdown",
      "metadata": {
        "id": "apeD48hhB1Ns"
      },
      "source": [
        "----\n",
        "### Exercise 2 - processing numerical data using decimal numbers (_float_)\n",
        "\n",
        "Have a go at writing this function (the code is included to help you).  \n",
        "*  create two variables **num1** and **num2** and assign them each a whole number  \n",
        "`num1 = float(28.5)` and `num2 = float(32.67)`   \n",
        "*  create a third variable **total** which will store the sum of num1 + num2    \n",
        "`total = num1 + num2`  \n",
        "*  print the total  \n",
        "`print(total)`    \n",
        "\n",
        "Run the function to test that you get the **expected output 61.17**.  \n",
        "\n",
        "Then change the value of one of the numbers and run the code again to get a new total."
      ]
    },
    {
      "cell_type": "code",
      "metadata": {
        "id": "T6WtdKMiCGh-",
        "outputId": "dccae80b-da60-467a-cc67-4c9caede8917",
        "colab": {
          "base_uri": "https://localhost:8080/"
        }
      },
      "source": [
        "def calculate_total():\n",
        "  num1=1\n",
        "  num2=2\n",
        "  total = num1 + num2\n",
        "  print(total)\n",
        "  # add your code below here\n",
        "\n",
        "\n",
        "\n",
        "\n",
        "calculate_total()"
      ],
      "execution_count": 5,
      "outputs": [
        {
          "output_type": "stream",
          "name": "stdout",
          "text": [
            "3\n"
          ]
        }
      ]
    },
    {
      "cell_type": "markdown",
      "source": [
        "### Have a play with this function\n",
        "\n",
        "1. Change the number called num1 to the number 345, run the code and it should print 377.67.\n",
        "2. Change num2 to another  (either a whole number or a decimal number - floats can cope with both), run the code and check that it prints the correct answer\n",
        "3.  Change num1 to \"56.7\" (written with the quotes).  Run the code - it will crash and show the error message \"ValueError: invalid literal for int() with base 10: '56.7'\" at the bottom of the error text.  This means that it couldn't process the data as it was a word rather than a number, even though it looks like a number (the \"\" identify it as text).  Change it to the number 2 and the code should run and give the answer 3"
      ],
      "metadata": {
        "id": "8t-0-qT-hc3q"
      }
    },
    {
      "cell_type": "markdown",
      "metadata": {
        "id": "Vc435xArCR41"
      },
      "source": [
        "---\n",
        "### Exercise 3 - categorical data - text\n",
        "*  create a variable called **name** and assign it the value \"Billy\" with the quotes  \n",
        "`name = \"Billy\"`\n",
        "*  create a variable called **age** and assign it the value \"18\" with the quotes  \n",
        "`age = \"18\"`  \n",
        "* create a variable called **message** and assign it the value of all the parts of the message joined together  \n",
        "`message = \"Hello \" + name + \" you age \" + age + \" years old.\"`\n",
        "*  print the message  \n",
        "`print(message)`\n",
        "\n",
        "**Expected output**:  \n",
        "Hello Billy you are 18 years old"
      ]
    },
    {
      "cell_type": "code",
      "metadata": {
        "id": "EmO5dR9nCYpE",
        "outputId": "235ca529-a90c-46ab-eb8f-95a6573609a6",
        "colab": {
          "base_uri": "https://localhost:8080/",
          "height": 106
        }
      },
      "source": [
        "def show_message():\n",
        "   # add your code below here\n",
        "\n",
        "\n",
        "show_message()"
      ],
      "execution_count": 1,
      "outputs": [
        {
          "output_type": "error",
          "ename": "IndentationError",
          "evalue": "expected an indented block after function definition on line 1 (<ipython-input-1-777c0ccb917d>, line 5)",
          "traceback": [
            "\u001b[0;36m  File \u001b[0;32m\"<ipython-input-1-777c0ccb917d>\"\u001b[0;36m, line \u001b[0;32m5\u001b[0m\n\u001b[0;31m    show_message()\u001b[0m\n\u001b[0m    ^\u001b[0m\n\u001b[0;31mIndentationError\u001b[0m\u001b[0;31m:\u001b[0m expected an indented block after function definition on line 1\n"
          ]
        }
      ]
    },
    {
      "cell_type": "markdown",
      "source": [
        "### Have a play with this function\n",
        "\n",
        "1. Change the name to \"Indira\", run the code to see the change.\n",
        "2. Change age to another number,  run the code and check that it prints the correct answer\n",
        "3. Change age to 25 (written without the quotes, so it is a number).  Run the code - it will crash and show the error message \"TypeError: can only concatenate str (not \"int\") to str\" at the bottom of the error text.  This means that it couldn't join the text together as the age was a number and not text.  \n",
        "\n",
        "When adding things together, the variables must be of the same type. Try this:  change *age = 25* to *age = str(25)*.  It should now work correctly and give the message \"Hello Indira you are 25 years old.\""
      ],
      "metadata": {
        "id": "Q1MLSdNajK_r"
      }
    },
    {
      "cell_type": "markdown",
      "source": [
        "---\n",
        "# Collecting data from the user\n",
        "\n",
        "To collect data from the user, who will use the keyboard to enter it, use the Python instruction:\n",
        "\n",
        "`input()`\n",
        "\n",
        "To make it easier for the user to know that the function is waiting for them to type something, add a message in the brackets:  \n",
        "\n",
        "`input(\"Please enter a number: \")`\n",
        "\n",
        "Assign the input to the variable that will store it:\n",
        "\n",
        "`num = int(input(\"Please enter a whole number: \"))`\n",
        "`decimal_num = float(input(\"Please enter a decimal number: \"))`\n",
        "`name = input(\"Please enter a name: \")`\n"
      ],
      "metadata": {
        "id": "SzJAtB-ksQQF"
      }
    },
    {
      "cell_type": "markdown",
      "source": [
        "---\n",
        "### Exercise 4 - numerical data collected from the user\n",
        "\n",
        "The cell below contains the same **function** used in Exercise 1 but this time the data will come from the user as a keyboard input rather than generated by the code, and it will add 5 instead of 1:\n",
        "\n",
        "*  creates a variable called **num** to store a whole number entered from the keyboard  \n",
        "`num = int(input(\"Please enter a whole number: \"))`\n",
        "*  creates a new, second variable called **num_plus_five** to hold the result of adding 5 to `num` (as in Exercise 1)  \n",
        "*  prints the new data (as in Exercise 1)  \n",
        "\n",
        "If the function has been written properly, and you have entered 3 when asked, it will print **8** (this is the **expected output**).  \n",
        "\n",
        "Run the function (click on the play button in the top left corner of the code box)."
      ],
      "metadata": {
        "id": "4jEQF7QmkizQ"
      }
    },
    {
      "cell_type": "code",
      "source": [
        "def add_five():\n",
        "  # add your code, indented, below here\n",
        "\n",
        "\n",
        "add_five()"
      ],
      "metadata": {
        "id": "-oThcTPtnAtS"
      },
      "execution_count": null,
      "outputs": []
    },
    {
      "cell_type": "markdown",
      "source": [
        "### Have a play with this function\n",
        "\n",
        "1. Run the code with a different whole number entered.\n",
        "2. Run the code with a decimal number entered (it should crash with a message saying \"ValueError\" as it can't convert the number from the keyboard if it doesn't look like a whole number)"
      ],
      "metadata": {
        "id": "ceMBgp-boGCa"
      }
    },
    {
      "cell_type": "markdown",
      "source": [
        "----\n",
        "### Exercise 5 - processing numerical data using decimal numbers (_float_) entered by the user\n",
        "\n",
        "Have a go at writing this function (the code is included to help you).  \n",
        "*  create two variables **num1** and **num2** and ask the user to enter a whole number for each  \n",
        "`num1 = float(input(\"Please enter a decimal number: \"))` and `num2 = float(input(\"Please enter a decimal number: \"))`   \n",
        "*  create a third variable **total** which will store the sum of num1 + num2    \n",
        "`total = num1 + num2`  \n",
        "*  print the total  \n",
        "`print(total)`    \n",
        "\n",
        "Run the function to test that you get the **expected output 61.17**.  "
      ],
      "metadata": {
        "id": "tm5zebNmnAcB"
      }
    },
    {
      "cell_type": "code",
      "source": [
        "def calculate_float_total():\n",
        "  # add your code, indented, below here\n",
        "\n",
        "\n",
        "\n",
        "calculate_float_total()"
      ],
      "metadata": {
        "id": "O65Io7C1n4u6"
      },
      "execution_count": null,
      "outputs": []
    },
    {
      "cell_type": "markdown",
      "source": [
        "### Have a play with this function\n",
        "\n",
        "1. Try different decimal numbers and check that you get the expected output.\n",
        "2. Try entering whole numbers - it should still work as it just assumes the decimal point with .00 if it isn't there.\n",
        "3. Try entering words rather than numbers, you will get a ValueError"
      ],
      "metadata": {
        "id": "PK1mBZ-iqA0r"
      }
    },
    {
      "cell_type": "markdown",
      "source": [
        "---\n",
        "### Exercise 6 - categorical data - text and numbers from the keyboard\n",
        "*  create a variable called **name** and ask the user to enter a name on the keyboard  \n",
        "`name = input(\"Please enter a name: \")`\n",
        "*  create a variable called **age** and ask the user to enter an age on the keyboard  \n",
        "`age = input(\"Please enter an age`)  \n",
        "* create a variable called **message** and assign it the value of all the parts of the message joined together  \n",
        "`message = \"Hello \" + name + \" you age \" + age + \" years old.\"`\n",
        "*  print the message  \n",
        "`print(message)`\n",
        "\n",
        "**Expected output if user enters Billy and 18**:  \n",
        "Hello Billy you are 18 years old"
      ],
      "metadata": {
        "id": "Pz_EpCuAqldF"
      }
    },
    {
      "cell_type": "code",
      "source": [
        "def show_message_with_keyboard_input():\n",
        "   # add your code below here\n",
        "\n",
        "\n",
        "show_message_with_keyboard_input()"
      ],
      "metadata": {
        "id": "Ayc-P3ZAreHm"
      },
      "execution_count": null,
      "outputs": []
    },
    {
      "cell_type": "markdown",
      "source": [
        "### Have a play with this function\n",
        "\n",
        "1. Try different names and ages and check that you get the expected output.\n",
        "2. Try entering a word for the age - it should still work as it is just expecting some text for the age (but the output will not make sense)."
      ],
      "metadata": {
        "id": "Yu7dvfJLrZbE"
      }
    },
    {
      "cell_type": "markdown",
      "source": [
        "---\n",
        "# Collecting data from a file\n",
        "\n",
        "Data from files can come in a range of formats.  To make things easier at the beginning, we will read text from plain text files holding lists of data.  Later we will learn how to read Comma Separated Values (CSV) files, which can hold table data, and JSON files which hold structured data.\n",
        "\n",
        "Three files have been created for you to use.  You will need to upload them to this worksheet before you can work on them.\n",
        "\n",
        "The code to read the files is already added to the functions.  It will be similar for any other functions you write where a text file is the data source."
      ],
      "metadata": {
        "id": "3cHVdsddsbc8"
      }
    },
    {
      "cell_type": "markdown",
      "source": [
        "### Getting the files into the worksheet\n",
        "\n",
        "1. Download the zipped folder from this link: https://drive.google.com/file/d/1FIc4R39_6GC2Cbg7srRweNMTZI7HDj7m/view?usp=drive_link\n",
        "\n",
        "2. Unzip the files on your computer.\n",
        "\n",
        "3. Click on the folder icon in the left navigation pane ![](https://drive.google.com/uc?id=1qI1Z5UN9ybqpbd6g0HTvkzgwJuJBBGqW)\n",
        "\n",
        "4. Create a folder - right click next to the root folder icon to get the menu - name the folder \"worksheet_data\" ![](https://drive.google.com/uc?id=1namV_8k-ULEu_RvqhDx5j8YxMuG-V0D9)\n",
        "\n",
        "5. Click on the upload icon and upload the three files in the folder you unzipped (whole_number.txt, decimal_numbers.txt, message_info.txt)\n",
        "\n",
        "6. Drag each of the 3 files into the worksheet_data folder.\n",
        "\n",
        "You are now ready to use the files.  They are only here while the worksheet is open.  If you close it and open it again another time you will need to upload the files again.  Later we will access file directly online."
      ],
      "metadata": {
        "id": "QLr2fjBhj4FA"
      }
    },
    {
      "cell_type": "markdown",
      "source": [
        "---\n",
        "### Exercise 7 - numerical data collected from a file\n",
        "\n",
        "The cell below contains the same **function** used in Exercise 1 but this time the data will come from the user as a keyboard input rather than generated by the code, and it will add 5 instead of 1:\n",
        "\n",
        "*  creates a variable called **num** to store a whole number read from a file  \n",
        "`num = int(datafile.readline())`\n",
        "*  creates a new, second variable called **num_plus_five** to hold the result of adding 5 to `num` (as in Exercise 1)  \n",
        "*  prints the new data (as in Exercise 1)  \n",
        "\n",
        "If the function has been written properly, and you have accessed the correct file, it will print **8** (this is the **expected output**).  \n",
        "\n",
        "Run the function (click on the play button in the top left corner of the code box)."
      ],
      "metadata": {
        "id": "pSG6lH23sFjz"
      }
    },
    {
      "cell_type": "code",
      "source": [
        "def add_five_to_file_num():\n",
        "  with open(\"worksheet_data/whole_number.txt\", \"r\") as datafile:\n",
        "    # add your code below, indented to align with the hash at the start of this comment\n",
        "\n",
        "add_five_to_file_num()"
      ],
      "metadata": {
        "id": "__be8y8cxl12",
        "colab": {
          "base_uri": "https://localhost:8080/"
        },
        "outputId": "242a29cc-da01-46fa-84f4-d5043e5d67b2"
      },
      "execution_count": null,
      "outputs": [
        {
          "output_type": "stream",
          "name": "stdout",
          "text": [
            "3\n"
          ]
        }
      ]
    },
    {
      "cell_type": "markdown",
      "source": [
        "### Have a play with this function\n",
        "\n",
        "1. Try using the file `decimal_numbers.txt`, which contains 2 decimal numbers rather than one whole number.  To do this, just change the name of the file from `whole_number.txt` to `decimal_numbers.txt`."
      ],
      "metadata": {
        "id": "kkOyC_cv1cr4"
      }
    },
    {
      "cell_type": "markdown",
      "source": [
        "----\n",
        "### Exercise 8 - processing numerical data using decimal numbers (_float_) entered by the user\n",
        "\n",
        "Have a go at writing this function (the code is included to help you).  \n",
        "*  create two variables **num1** and **num2** and ask the user to enter a whole number for each  \n",
        "`num1 = float(datafile.readline())` and `num2 = float(datafile.readline())`   \n",
        "*  create a third variable **total** which will store the sum of num1 + num2    \n",
        "`total = num1 + num2`  \n",
        "*  print the total  \n",
        "`print(total)`    \n",
        "\n",
        "Run the function to test that you get the **expected output 39.6**.  "
      ],
      "metadata": {
        "id": "7ZjDKrrz2qwY"
      }
    },
    {
      "cell_type": "code",
      "source": [
        "def calculate_floats_from_file_total():\n",
        "  with open(\"worksheet_data/decimal_numbers.txt\", \"r\") as datafile:\n",
        "    # add your code below, indented to align with the hash at the start of this comment\n",
        "\n",
        "\n",
        "\n",
        "\n",
        "calculate_floats_from_file_total()"
      ],
      "metadata": {
        "id": "HcG9NBbQ52-T"
      },
      "execution_count": null,
      "outputs": []
    },
    {
      "cell_type": "markdown",
      "source": [
        "### Have a play with this function\n",
        "\n",
        "1. Try adding a third variable called `num3` and read the data from the file.  You will get a ValueError as there are no more numbers in the file to be read."
      ],
      "metadata": {
        "id": "i5HcwDrj6R25"
      }
    },
    {
      "cell_type": "markdown",
      "source": [
        "---\n",
        "### Exercise 9 - categorical data - text and numbers from a file\n",
        "*  create a variable called **name** and ask the user to enter a name on the keyboard  \n",
        "`name = datafile.readline()`\n",
        "*  create a variable called **age** and ask the user to enter an age on the keyboard  \n",
        "`age = datafile.readline()`  \n",
        "* create a variable called **message** and assign it the value of all the parts of the message joined together  \n",
        "`message = \"Hello \" + name + \" you age \" + age + \" years old.\"`\n",
        "*  print the message  \n",
        "`print(message)`\n",
        "\n",
        "**Expected output if user enters Billy and 18**:  \n",
        "```\n",
        "Hello Billy\n",
        " you are 18\n",
        " years old\n",
        "```\n",
        "The different output is because the file data will have a new line after each piece of data.  This can be removed but we won't do that now.\n",
        "\n"
      ],
      "metadata": {
        "id": "k1FaS6737IFy"
      }
    },
    {
      "cell_type": "code",
      "source": [
        "def show_message_with_file_data():\n",
        "  with open(\"worksheet_data/message_info.txt\", \"r\") as datafile:\n",
        "    # add your code below, indented to align with the hash at the start of this comment\n",
        "\n",
        "\n",
        "show_message_with_file_data()"
      ],
      "metadata": {
        "id": "yevW1oL77cIC"
      },
      "execution_count": null,
      "outputs": []
    },
    {
      "cell_type": "markdown",
      "source": [
        "### Have a play with this function\n",
        "\n",
        "1. Try changing the file so that you read the `decimal_numbers.txt` file instead.  This file also has two pieces of data, and it is also text data, so the code should work but the output will look strange."
      ],
      "metadata": {
        "id": "f4Eu7_q77vQu"
      }
    },
    {
      "cell_type": "markdown",
      "source": [
        "---\n",
        "# Takeaways from this worksheet\n",
        "\n",
        "* coding is a valuable skill\n",
        "* coding is useful for repetitive data tasks and processing that is non-standard\n",
        "* data can be collected from a range of sources, including self-generated, from users or from files\n",
        "* python code should be organised into functions, this is good practice\n",
        "* you can add comments to code\n",
        "* int() and float() are numeric data types and you should convert to the right data type when you create data for a new variable.\n",
        "* strings are indicated by \"\" but you can use str() to force data to be text\n",
        "* errors are nothing to be worried about, they help you to learn and will eventually help you to write better code.\n",
        "\n"
      ],
      "metadata": {
        "id": "JdDQgdx09aqu"
      }
    },
    {
      "cell_type": "markdown",
      "source": [
        "---\n",
        "# Your thoughts on what you have learnt\n",
        "Please add some comments in the box below to reflect on what you have learnt through completing this worksheet, and any problems you encountered while doing so."
      ],
      "metadata": {
        "id": "1CuoB0eiU5O7"
      }
    },
    {
      "cell_type": "markdown",
      "source": [],
      "metadata": {
        "id": "wCLjjj6NVOVE"
      }
    }
  ]
}